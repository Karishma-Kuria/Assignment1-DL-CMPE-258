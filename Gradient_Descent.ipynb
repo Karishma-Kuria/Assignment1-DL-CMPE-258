{
  "nbformat": 4,
  "nbformat_minor": 0,
  "metadata": {
    "colab": {
      "name": "Gradient-Descent",
      "provenance": [],
      "collapsed_sections": [],
      "authorship_tag": "ABX9TyPRIJJn9pGB3yEc3sgP/iL1",
      "include_colab_link": true
    },
    "kernelspec": {
      "name": "python3",
      "display_name": "Python 3"
    },
    "language_info": {
      "name": "python"
    }
  },
  "cells": [
    {
      "cell_type": "markdown",
      "metadata": {
        "id": "view-in-github",
        "colab_type": "text"
      },
      "source": [
        "<a href=\"https://colab.research.google.com/github/Karishma-Kuria/Assignment1-DL-CMPE-258/blob/main/Gradient_Descent.ipynb\" target=\"_parent\"><img src=\"https://colab.research.google.com/assets/colab-badge.svg\" alt=\"Open In Colab\"/></a>"
      ]
    },
    {
      "cell_type": "markdown",
      "source": [
        "## **Gradient Descent**"
      ],
      "metadata": {
        "id": "KiJoYkqFXwnR"
      }
    },
    {
      "cell_type": "markdown",
      "source": [
        "In this colab I have showcased Gradient Descent without using any library.\n",
        "It is the important part of machine learning algorithms.\n",
        "This algorithm provides the results by recursively iterating with some initial parameters and then minimizing some cost or gradient function which is the descent part. The best result is achieved by taking the differentiation of the variables or properties involved towards the direction of the downhill slope or decreasing slope."
      ],
      "metadata": {
        "id": "KOMSaCgbN27m"
      }
    },
    {
      "cell_type": "markdown",
      "source": [
        "### **Functional Requirements for Fradient Descent**"
      ],
      "metadata": {
        "id": "dmVjAVCJ8EGU"
      }
    },
    {
      "cell_type": "markdown",
      "source": [
        "Gradient Descent function only works for function which have following properties:\n",
        "\n",
        "\n",
        "1.   Differentiable\n",
        "2.   Convex\n",
        "\n"
      ],
      "metadata": {
        "id": "s7sJkagD8MBg"
      }
    },
    {
      "cell_type": "markdown",
      "source": [
        "### **Linear Regression**"
      ],
      "metadata": {
        "id": "P9Y4fj-196En"
      }
    },
    {
      "cell_type": "markdown",
      "source": [
        "A linear regression line has the following equation\n",
        "Y = a + bx"
      ],
      "metadata": {
        "id": "r8KyYNI899S8"
      }
    },
    {
      "cell_type": "markdown",
      "source": [
        "where b is the slope of the line and a is the intercept (value of y when x=0)\n",
        "Y is the dependent variable and X is the explanatory variable."
      ],
      "metadata": {
        "id": "lxSskSsu-xJ-"
      }
    },
    {
      "cell_type": "code",
      "execution_count": null,
      "metadata": {
        "id": "4eROPe5U12oT"
      },
      "outputs": [],
      "source": [
        "# imorting relevant libraries for creating data and plotting graphs\n",
        "import numpy as np\n",
        "import matplotlib.pyplot as plt\n",
        "%matplotlib inline"
      ]
    },
    {
      "cell_type": "markdown",
      "source": [
        "## Create Data"
      ],
      "metadata": {
        "id": "X9ykCgXUOx8g"
      }
    },
    {
      "cell_type": "markdown",
      "source": [
        "### Here I have created the data points that follow linear equation x=y."
      ],
      "metadata": {
        "id": "BugoyI_FRhEd"
      }
    },
    {
      "cell_type": "code",
      "source": [
        "np.random.seed(42)\n",
        "x_data = np.array(sorted(list(range(5))*20)) + np.random.normal(size=100, scale=0.5)\n",
        "y_data = np.array(sorted(list(range(5))*20)) + np.random.normal(size=100, scale=0.25)"
      ],
      "metadata": {
        "id": "A-KQrY3jO00n"
      },
      "execution_count": null,
      "outputs": []
    },
    {
      "cell_type": "code",
      "source": [
        "x_data"
      ],
      "metadata": {
        "colab": {
          "base_uri": "https://localhost:8080/"
        },
        "id": "Vp1LgMDlEWXj",
        "outputId": "1576bd66-c6ce-4f11-918a-c74d200e620f"
      },
      "execution_count": 20,
      "outputs": [
        {
          "output_type": "execute_result",
          "data": {
            "text/plain": [
              "array([ 0.24835708, -0.06913215,  0.32384427,  0.76151493, -0.11707669,\n",
              "       -0.11706848,  0.78960641,  0.38371736, -0.23473719,  0.27128002,\n",
              "       -0.23170885, -0.23286488,  0.12098114, -0.95664012, -0.86245892,\n",
              "       -0.28114376, -0.50641556,  0.15712367, -0.45401204, -0.70615185,\n",
              "        1.73282438,  0.88711185,  1.0337641 ,  0.28762591,  0.72780864,\n",
              "        1.05546129,  0.42450321,  1.18784901,  0.69968066,  0.85415313,\n",
              "        0.69914669,  1.92613909,  0.99325139,  0.47114454,  1.41127246,\n",
              "        0.38957818,  1.1044318 ,  0.02016494,  0.33590698,  1.09843062,\n",
              "        2.36923329,  2.08568414,  1.94217586,  1.84944815,  1.260739  ,\n",
              "        1.6400779 ,  1.76968061,  2.52856111,  2.17180914,  1.11847992,\n",
              "        2.16204198,  1.80745886,  1.661539  ,  2.30583814,  2.51549976,\n",
              "        2.46564006,  1.58039124,  1.84539381,  2.16563172,  2.48777256,\n",
              "        2.76041288,  2.90717051,  2.44683251,  2.40189669,  3.40626291,\n",
              "        3.67812001,  2.96399494,  3.50176645,  3.18081801,  2.67744012,\n",
              "        3.1806978 ,  3.76901828,  2.98208698,  3.78232183,  1.69012745,\n",
              "        3.41095125,  3.04352353,  2.85049632,  3.04588039,  2.00621554,\n",
              "        3.89016406,  4.17855629,  4.73894702,  3.74086489,  3.5957532 ,\n",
              "        3.74912148,  4.45770106,  4.16437555,  3.7351199 ,  4.25663372,\n",
              "        4.04853877,  4.4843225 ,  3.64897345,  3.83616893,  3.80394592,\n",
              "        3.26824253,  4.14806014,  4.13052764,  4.00255673,  3.88270643])"
            ]
          },
          "metadata": {},
          "execution_count": 20
        }
      ]
    },
    {
      "cell_type": "code",
      "source": [
        "y_data"
      ],
      "metadata": {
        "colab": {
          "base_uri": "https://localhost:8080/"
        },
        "id": "80tI8gpvEYf4",
        "outputId": "3d74ec34-7c9e-455a-d3c3-441e16976da7"
      },
      "execution_count": 21,
      "outputs": [
        {
          "output_type": "execute_result",
          "data": {
            "text/plain": [
              "array([-0.35384269, -0.10516133, -0.08567863, -0.20056932, -0.04032143,\n",
              "        0.10101271,  0.47154648,  0.04364445,  0.0643876 , -0.01861148,\n",
              "       -0.4796928 , -0.00662847,  0.01505755,  0.61581053, -0.04809024,\n",
              "        0.07538684, -0.00867794, -0.29216951,  0.2857057 ,  0.18798326,\n",
              "        1.19775799,  0.77265314,  1.35069858,  0.64953723,  1.14671427,\n",
              "        1.54761391,  0.75236592,  0.85842557,  1.02491284,  0.87413109,\n",
              "        0.61233414,  1.01714074,  0.73442407,  1.11839811,  0.77014394,\n",
              "        1.3874836 ,  0.80418668,  0.91948462,  1.2033793 ,  0.69228392,\n",
              "        2.05686498,  2.32678569,  1.59812919,  2.04615846,  2.0649707 ,\n",
              "        2.19545572,  1.69076232,  1.66988585,  2.13048539,  2.07424617,\n",
              "        2.06262321,  2.08661205,  1.82999382,  2.05806342,  2.07326812,\n",
              "        1.82141215,  2.46644363,  2.11845823,  1.70217413,  2.1641384 ,\n",
              "        2.75632958,  3.19677115,  3.28964889,  2.79482942,  3.24084403,\n",
              "        3.10319523,  3.20551504,  3.47419825,  2.93865297,  2.81156596,\n",
              "        2.77762139,  2.79604743,  2.98072457,  3.08528799,  3.0691727 ,\n",
              "        3.20679581,  3.00325047,  3.36338352,  2.93383579,  3.68004229,\n",
              "        4.15641684,  3.78571061,  3.73227688,  4.1206181 ,  3.9441343 ,\n",
              "        4.17850012,  4.11830941,  3.98179277,  3.78830157,  3.62128819,\n",
              "        3.88837126,  4.2140997 ,  4.05352344,  3.68856531,  4.04329523,\n",
              "        4.09632934,  3.77903564,  4.03843128,  4.01455218,  3.71425743])"
            ]
          },
          "metadata": {},
          "execution_count": 21
        }
      ]
    },
    {
      "cell_type": "markdown",
      "source": [
        "### Plotting the data to check the relation between them"
      ],
      "metadata": {
        "id": "o2TiD7skPRx1"
      }
    },
    {
      "cell_type": "code",
      "source": [
        "plt.plot(x_data,y_data,'b.')\n",
        "plt.xlabel(\"$x$\", fontsize=18)\n",
        "plt.ylabel(\"$y$\", rotation=0, fontsize=18)\n",
        "_ =plt.axis([-1,5,1,5])"
      ],
      "metadata": {
        "colab": {
          "base_uri": "https://localhost:8080/",
          "height": 288
        },
        "id": "RunlRARuPVlW",
        "outputId": "5b386229-8a44-4ef9-ef99-722eb10ea81a"
      },
      "execution_count": null,
      "outputs": [
        {
          "output_type": "display_data",
          "data": {
            "image/png": "[encoded data removed]",
            "text/plain": [
              "<Figure size 432x288 with 1 Axes>"
            ]
          },
          "metadata": {
            "needs_background": "light"
          }
        }
      ]
    },
    {
      "cell_type": "markdown",
      "source": [
        "### Gradient Descent Class"
      ],
      "metadata": {
        "id": "Jqwbv4lzQZNz"
      }
    },
    {
      "cell_type": "markdown",
      "source": [
        "### Here I have used learning rate = 0.01 for 1000 number of iterations."
      ],
      "metadata": {
        "id": "xAGOG6k2X_h8"
      }
    },
    {
      "cell_type": "code",
      "source": [
        "# class to perform gradient descent for linear regression\n",
        "class gradient_Descent_LinearRegression:\n",
        "    def __init__(self, learning_rate=0.01, iterations=1000):\n",
        "        self.learning_rate, self.iterations = learning_rate, iterations\n",
        "    \n",
        "    def fit(self, X_value, y_value):\n",
        "        b = 0\n",
        "        m = 5\n",
        "        n = X_value.shape[0]\n",
        "        for _ in range(self.iterations):\n",
        "            b_gradient = -2 * np.sum(y_value - m*X_value + b) / n\n",
        "            m_gradient = -2 * np.sum(X_value*(y_value - (m*X_value + b))) / n\n",
        "            b = b + (self.learning_rate * b_gradient)\n",
        "            m = m - (self.learning_rate * m_gradient)\n",
        "        self.m, self.b = m, b\n",
        "        \n",
        "        # model prediction\n",
        "    def predict(self, X_value):\n",
        "        return self.m*X_value + self.b"
      ],
      "metadata": {
        "id": "n_FntZyuQcEf"
      },
      "execution_count": null,
      "outputs": []
    },
    {
      "cell_type": "markdown",
      "source": [
        "### Applying Gradient descent on the above created data."
      ],
      "metadata": {
        "id": "9oTdY1KEQtzR"
      }
    },
    {
      "cell_type": "code",
      "source": [
        "# calling gradient descent class \n",
        "model = gradient_Descent_LinearRegression()\n",
        "model.fit(x_data, y_data)\n",
        "\n",
        "plt.style.use('fivethirtyeight')\n",
        "\n",
        "plt.scatter(x_data, y_data, color='red')\n",
        "plt.plot(x_data, model.predict(x_data))\n",
        "plt.gca().set_title(\"Gradient Descent Linear Regressor\")"
      ],
      "metadata": {
        "colab": {
          "base_uri": "https://localhost:8080/",
          "height": 320
        },
        "id": "KCezjX97QxcY",
        "outputId": "f7f6d044-4439-4f28-91dc-3d8271dac949"
      },
      "execution_count": null,
      "outputs": [
        {
          "output_type": "execute_result",
          "data": {
            "text/plain": [
              "Text(0.5, 1.0, 'Gradient Descent Linear Regressor')"
            ]
          },
          "metadata": {},
          "execution_count": 16
        },
        {
          "output_type": "display_data",
          "data": {
            "image/png": "[encoded data removed]",
            "text/plain": [
              "<Figure size 432x288 with 1 Axes>"
            ]
          },
          "metadata": {}
        }
      ]
    },
    {
      "cell_type": "markdown",
      "source": [
        "The result of the model is very close to ideal solution for m=1 and b=0."
      ],
      "metadata": {
        "id": "J1mBXlAeRMU_"
      }
    },
    {
      "cell_type": "markdown",
      "source": [
        "## **Stochastic Gradient Descent**"
      ],
      "metadata": {
        "id": "YGtR9Qf6SxuY"
      }
    },
    {
      "cell_type": "markdown",
      "source": [
        "Stochastic gradient descent improves on the limitation of Gradient Descent Algo. It performs much better in large scale datasets.\n",
        "As the name suggests stochastic means random. It performs differentiation in random samples. Taking one sample at a time makes the algo much faster becuase it has less data to manipulate in every iteration."
      ],
      "metadata": {
        "id": "MACuGwp6_YxC"
      }
    },
    {
      "cell_type": "markdown",
      "source": [
        "The below 'gradient_descent_stocashtic' function uses following parameters:\n",
        "\n",
        "\n",
        "1.   X_value: Matrix of X with bias units added\n",
        "2.   y_value: Vector of Y\n",
        "3.   theta:   Vector of thetas np.random.randn(j,1)\n",
        "4.   learning_rate\n",
        "5.   iterations: number of iterations\n",
        "\n",
        "And this function returns the final theta vector and cost history array over total number of iterations.\n",
        "\n",
        "I have also added the 'cost_cal' function which calculates the cost for given x and y."
      ],
      "metadata": {
        "id": "qRuSqfbXTXSQ"
      }
    },
    {
      "cell_type": "code",
      "source": [
        "# defing cost calculation function\n",
        "def  cost_cal(theta,x,y):\n",
        "    m = len(y)\n",
        "    \n",
        "    predictions = x.dot(theta)\n",
        "    cost = (1/2*m) * np.sum(np.square(predictions-y))\n",
        "    return cost\n",
        "\n",
        "def gradient_descent_stocashtic(X_value,y_value,theta,learning_rate=0.01,iterations=10):\n",
        "    m = len(y_value)\n",
        "    cost_history = np.zeros(iterations)\n",
        "    \n",
        "    \n",
        "    for it in range(iterations):\n",
        "        cost =0.0\n",
        "        for i in range(m):\n",
        "            rand_ind = np.random.randint(0,m)\n",
        "            X_i = X_value[rand_ind,:].reshape(1,X_value.shape[1])\n",
        "            y_i = y_value[rand_ind].reshape(1,1)\n",
        "            prediction = np.dot(X_i,theta)\n",
        "\n",
        "            theta = theta -(1/m)*learning_rate*( X_i.T.dot((prediction - y_i)))\n",
        "            cost += cost_cal(theta,X_i,y_i)\n",
        "        cost_history[it]  = cost\n",
        "        \n",
        "    return theta, cost_history"
      ],
      "metadata": {
        "id": "u23G9-B4S4pD"
      },
      "execution_count": null,
      "outputs": []
    },
    {
      "cell_type": "markdown",
      "source": [
        "For learning rate 0.5 and 50 iterations I have called the stochastic gradient descent function."
      ],
      "metadata": {
        "id": "sqKB7h1PVAYn"
      }
    },
    {
      "cell_type": "code",
      "source": [
        "lrate =0.5\n",
        "total_iter = 50\n",
        "\n",
        "theta = np.random.randn(2,1)\n",
        "\n",
        "# data to points\n",
        "X = 2 * np.random.rand(100,1)\n",
        "y = 4 +3 * X+np.random.randn(100,1)\n",
        "\n",
        "X = np.c_[np.ones((len(X),1)),X]\n",
        "theta,cost_history_val = gradient_descent_stocashtic(X,y,theta,lrate,total_iter)\n",
        "\n",
        "\n",
        "print('Theta0:          {:0.3f},\\nTheta1:          {:0.3f}'.format(theta[0][0],theta[1][0]))\n",
        "print('Final cost/MSE:  {:0.3f}'.format(cost_history_val[-1]))"
      ],
      "metadata": {
        "colab": {
          "base_uri": "https://localhost:8080/"
        },
        "id": "Z7H0L1KdVA6D",
        "outputId": "1690ec21-2051-4d37-94d5-55e9e8b01c6a"
      },
      "execution_count": null,
      "outputs": [
        {
          "output_type": "stream",
          "name": "stdout",
          "text": [
            "Theta0:          4.165,\n",
            "Theta1:          2.850\n",
            "Final cost/MSE:  34.993\n"
          ]
        }
      ]
    },
    {
      "cell_type": "markdown",
      "source": [
        "Plotting Theata and iteration graph."
      ],
      "metadata": {
        "id": "2qM1aq7nVtmX"
      }
    },
    {
      "cell_type": "code",
      "source": [
        "fig,ax = plt.subplots(figsize=(10,8))\n",
        "ax.set_ylabel('{J(Theta)}',rotation=0)\n",
        "ax.set_xlabel('{Iterations}')\n",
        "theta = np.random.randn(2,1)\n",
        "\n",
        "_=ax.plot(range(total_iter),cost_history_val,'b.')"
      ],
      "metadata": {
        "colab": {
          "base_uri": "https://localhost:8080/",
          "height": 537
        },
        "id": "bGJ1NkkEVxE3",
        "outputId": "8222fd66-b642-4820-9d76-09af033d8934"
      },
      "execution_count": null,
      "outputs": [
        {
          "output_type": "display_data",
          "data": {
            "image/png": "[encoded data removed]",
            "text/plain": [
              "<Figure size 720x576 with 1 Axes>"
            ]
          },
          "metadata": {}
        }
      ]
    },
    {
      "cell_type": "markdown",
      "source": [
        "The best advantage of using Gradient Descent is that here we don't require to have any fundamental pre-occupied knowledge of the model. We can apply the classifier build in above steps without having knowledge of linear regression. It can be applied to any model metric till the time it has 2 features, 1. its concave and 2. Differentiable."
      ],
      "metadata": {
        "id": "otc8ksQYWKN7"
      }
    }
  ]
}
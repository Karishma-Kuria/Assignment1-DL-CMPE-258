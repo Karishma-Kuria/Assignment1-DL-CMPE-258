{
  "nbformat": 4,
  "nbformat_minor": 0,
  "metadata": {
    "colab": {
      "name": "Gradient-Descent",
      "provenance": [],
      "collapsed_sections": [],
      "authorship_tag": "ABX9TyNmi9aWjCaqrwppH4Eqybfw",
      "include_colab_link": true
    },
    "kernelspec": {
      "name": "python3",
      "display_name": "Python 3"
    },
    "language_info": {
      "name": "python"
    }
  },
  "cells": [
    {
      "cell_type": "markdown",
      "metadata": {
        "id": "view-in-github",
        "colab_type": "text"
      },
      "source": [
        "<a href=\"https://colab.research.google.com/github/Karishma-Kuria/DL-FasiAI/blob/main/Gradient_Descent.ipynb\" target=\"_parent\"><img src=\"https://colab.research.google.com/assets/colab-badge.svg\" alt=\"Open In Colab\"/></a>"
      ]
    },
    {
      "cell_type": "markdown",
      "source": [
        "## **Gradient Descent**"
      ],
      "metadata": {
        "id": "KiJoYkqFXwnR"
      }
    },
    {
      "cell_type": "markdown",
      "source": [
        "In this colab I have showcased Gradient Descent without using any library.\n",
        "It is the important part of machine learning algorithms.\n",
        "This algorithm provides the results by recursively iterating with some initial parameters and then minimizing some cost or gradient function which is the descent part. The best result is achieved by taking the differentiation of the variables or properties involved towards the direction of the downhill slope or decreasing slope."
      ],
      "metadata": {
        "id": "KOMSaCgbN27m"
      }
    },
    {
      "cell_type": "code",
      "execution_count": 37,
      "metadata": {
        "id": "4eROPe5U12oT"
      },
      "outputs": [],
      "source": [
        "# imorting relevant libraries for creating data and plotting graphs\n",
        "import numpy as np\n",
        "import matplotlib.pyplot as plt\n",
        "%matplotlib inline"
      ]
    },
    {
      "cell_type": "markdown",
      "source": [
        "## Create Data"
      ],
      "metadata": {
        "id": "X9ykCgXUOx8g"
      }
    },
    {
      "cell_type": "markdown",
      "source": [
        "### Here I have created the data of points that follow x=y equation."
      ],
      "metadata": {
        "id": "BugoyI_FRhEd"
      }
    },
    {
      "cell_type": "code",
      "source": [
        "np.random.seed(42)\n",
        "x_data = np.array(sorted(list(range(5))*20)) + np.random.normal(size=100, scale=0.5)\n",
        "y_data = np.array(sorted(list(range(5))*20)) + np.random.normal(size=100, scale=0.25)"
      ],
      "metadata": {
        "id": "A-KQrY3jO00n"
      },
      "execution_count": 38,
      "outputs": []
    },
    {
      "cell_type": "markdown",
      "source": [
        "### Plotting the data to check the relation between them"
      ],
      "metadata": {
        "id": "o2TiD7skPRx1"
      }
    },
    {
      "cell_type": "code",
      "source": [
        "plt.plot(x_data,y_data,'b.')\n",
        "plt.xlabel(\"$x$\", fontsize=18)\n",
        "plt.ylabel(\"$y$\", rotation=0, fontsize=18)\n",
        "_ =plt.axis([-1,5,1,5])"
      ],
      "metadata": {
        "colab": {
          "base_uri": "https://localhost:8080/",
          "height": 288
        },
        "id": "RunlRARuPVlW",
        "outputId": "08831144-01fe-4e9f-9f1e-6b8aac1872df"
      },
      "execution_count": 39,
      "outputs": [
        {
          "output_type": "display_data",
          "data": {
            "image/png": "[encoded data removed]",
            "text/plain": [
              "<Figure size 432x288 with 1 Axes>"
            ]
          },
          "metadata": {
            "needs_background": "light"
          }
        }
      ]
    },
    {
      "cell_type": "markdown",
      "source": [
        "### Gradient Descent Class"
      ],
      "metadata": {
        "id": "Jqwbv4lzQZNz"
      }
    },
    {
      "cell_type": "markdown",
      "source": [
        "### Here I have used learning raye = 0.01 for 1000 number of iterations."
      ],
      "metadata": {
        "id": "xAGOG6k2X_h8"
      }
    },
    {
      "cell_type": "code",
      "source": [
        "class gradient_Descent_LinearRegression:\n",
        "    def __init__(self, learning_rate=0.01, iterations=1000):\n",
        "        self.learning_rate, self.iterations = learning_rate, iterations\n",
        "    \n",
        "    def fit(self, X_value, y_value):\n",
        "        b = 0\n",
        "        m = 5\n",
        "        n = X_value.shape[0]\n",
        "        for _ in range(self.iterations):\n",
        "            b_gradient = -2 * np.sum(y_value - m*X_value + b) / n\n",
        "            m_gradient = -2 * np.sum(X_value*(y_value - (m*X_value + b))) / n\n",
        "            b = b + (self.learning_rate * b_gradient)\n",
        "            m = m - (self.learning_rate * m_gradient)\n",
        "        self.m, self.b = m, b\n",
        "        \n",
        "    def predict(self, X_value):\n",
        "        return self.m*X_value + self.b"
      ],
      "metadata": {
        "id": "n_FntZyuQcEf"
      },
      "execution_count": 40,
      "outputs": []
    },
    {
      "cell_type": "markdown",
      "source": [
        "### Applying Gradient descent on the above created data."
      ],
      "metadata": {
        "id": "9oTdY1KEQtzR"
      }
    },
    {
      "cell_type": "code",
      "source": [
        "model = gradient_Descent_LinearRegression()\n",
        "model.fit(x_data, y_data)\n",
        "\n",
        "plt.style.use('fivethirtyeight')\n",
        "\n",
        "plt.scatter(x_data, y_data, color='red')\n",
        "plt.plot(x_data, model.predict(x_data))\n",
        "plt.gca().set_title(\"Gradient Descent Linear Regressor\")"
      ],
      "metadata": {
        "colab": {
          "base_uri": "https://localhost:8080/",
          "height": 320
        },
        "id": "KCezjX97QxcY",
        "outputId": "667cc8c9-1669-4855-b11d-e1652537f9b1"
      },
      "execution_count": 41,
      "outputs": [
        {
          "output_type": "execute_result",
          "data": {
            "text/plain": [
              "Text(0.5, 1.0, 'Gradient Descent Linear Regressor')"
            ]
          },
          "metadata": {},
          "execution_count": 41
        },
        {
          "output_type": "display_data",
          "data": {
            "image/png": "[encoded data removed]",
            "text/plain": [
              "<Figure size 432x288 with 1 Axes>"
            ]
          },
          "metadata": {}
        }
      ]
    },
    {
      "cell_type": "markdown",
      "source": [
        "The result of the model is very close to ideal solution for m=1 and b=0."
      ],
      "metadata": {
        "id": "J1mBXlAeRMU_"
      }
    },
    {
      "cell_type": "markdown",
      "source": [
        "### Stochastic Gradient Descent"
      ],
      "metadata": {
        "id": "YGtR9Qf6SxuY"
      }
    },
    {
      "cell_type": "markdown",
      "source": [
        "The below 'gradient_descent_stocashtic' function uses following parameters:\n",
        "\n",
        "\n",
        "1.   X_value: Matrix of X with bias units added\n",
        "2.   y_value: Vector of Y\n",
        "3.   theta:   Vector of thetas np.random.randn(j,1)\n",
        "4.   learning_rate\n",
        "5.   iterations: number of iterations\n",
        "\n",
        "And this function returns the final theta vector and cost history array over total number of iterations.\n",
        "\n",
        "I have also added the 'cost_cal' function which calculates the cost for given x and y."
      ],
      "metadata": {
        "id": "qRuSqfbXTXSQ"
      }
    },
    {
      "cell_type": "code",
      "source": [
        "def  cost_cal(theta,x,y):\n",
        "    m = len(y)\n",
        "    \n",
        "    predictions = x.dot(theta)\n",
        "    cost = (1/2*m) * np.sum(np.square(predictions-y))\n",
        "    return cost\n",
        "\n",
        "def gradient_descent_stocashtic(X_value,y_value,theta,learning_rate=0.01,iterations=10):\n",
        "    m = len(y_value)\n",
        "    cost_history = np.zeros(iterations)\n",
        "    \n",
        "    \n",
        "    for it in range(iterations):\n",
        "        cost =0.0\n",
        "        for i in range(m):\n",
        "            rand_ind = np.random.randint(0,m)\n",
        "            X_i = X_value[rand_ind,:].reshape(1,X_value.shape[1])\n",
        "            y_i = y_value[rand_ind].reshape(1,1)\n",
        "            prediction = np.dot(X_i,theta)\n",
        "\n",
        "            theta = theta -(1/m)*learning_rate*( X_i.T.dot((prediction - y_i)))\n",
        "            cost += cost_cal(theta,X_i,y_i)\n",
        "        cost_history[it]  = cost\n",
        "        \n",
        "    return theta, cost_history"
      ],
      "metadata": {
        "id": "u23G9-B4S4pD"
      },
      "execution_count": 42,
      "outputs": []
    },
    {
      "cell_type": "markdown",
      "source": [
        "For learning rate 0.5 and 50 iterations I have called the stochastic gradient descent function."
      ],
      "metadata": {
        "id": "sqKB7h1PVAYn"
      }
    },
    {
      "cell_type": "code",
      "source": [
        "lrate =0.5\n",
        "total_iter = 50\n",
        "\n",
        "theta = np.random.randn(2,1)\n",
        "\n",
        "# data to points\n",
        "X = 2 * np.random.rand(100,1)\n",
        "y = 4 +3 * X+np.random.randn(100,1)\n",
        "\n",
        "X = np.c_[np.ones((len(X),1)),X]\n",
        "theta,cost_history_val = gradient_descent_stocashtic(X,y,theta,lrate,total_iter)\n",
        "\n",
        "\n",
        "print('Theta0:          {:0.3f},\\nTheta1:          {:0.3f}'.format(theta[0][0],theta[1][0]))\n",
        "print('Final cost/MSE:  {:0.3f}'.format(cost_history_val[-1]))"
      ],
      "metadata": {
        "colab": {
          "base_uri": "https://localhost:8080/"
        },
        "id": "Z7H0L1KdVA6D",
        "outputId": "7e0ace3a-019b-49d9-e958-7c9175ce609d"
      },
      "execution_count": 45,
      "outputs": [
        {
          "output_type": "stream",
          "name": "stdout",
          "text": [
            "Theta0:          4.050,\n",
            "Theta1:          3.295\n",
            "Final cost/MSE:  50.646\n"
          ]
        }
      ]
    },
    {
      "cell_type": "markdown",
      "source": [
        "Plotting Theata and iteration graph."
      ],
      "metadata": {
        "id": "2qM1aq7nVtmX"
      }
    },
    {
      "cell_type": "code",
      "source": [
        "fig,ax = plt.subplots(figsize=(10,8))\n",
        "ax.set_ylabel('{J(Theta)}',rotation=0)\n",
        "ax.set_xlabel('{Iterations}')\n",
        "theta = np.random.randn(2,1)\n",
        "\n",
        "_=ax.plot(range(total_iter),cost_history_val,'b.')"
      ],
      "metadata": {
        "colab": {
          "base_uri": "https://localhost:8080/",
          "height": 537
        },
        "id": "bGJ1NkkEVxE3",
        "outputId": "40868191-133f-4182-a4f5-6966bb92c4c7"
      },
      "execution_count": 46,
      "outputs": [
        {
          "output_type": "display_data",
          "data": {
            "image/png": "[encoded data removed]",
            "text/plain": [
              "<Figure size 720x576 with 1 Axes>"
            ]
          },
          "metadata": {}
        }
      ]
    },
    {
      "cell_type": "markdown",
      "source": [
        "The best advantage of using Gradient Descent is that here we don't require to have any fundamental pre-occupied knowledge of the model. We can apply the classifier build in above steps without having knowledge of linear regression. It can be applied to any model metric till the time it has 2 features, 1. its concave and 2. Differentiable."
      ],
      "metadata": {
        "id": "otc8ksQYWKN7"
      }
    }
  ]
}